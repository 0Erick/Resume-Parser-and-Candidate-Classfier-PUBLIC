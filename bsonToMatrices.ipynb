{
 "cells": [
  {
   "cell_type": "markdown",
   "metadata": {},
   "source": [
    "**Embeddings model loading to convert the remaining numeric data to semantic data**"
   ]
  },
  {
   "cell_type": "code",
   "execution_count": null,
   "metadata": {},
   "outputs": [],
   "source": [
    "from langchain_community.embeddings import HuggingFaceEmbeddings\n",
    "\n",
    "embeddings = HuggingFaceEmbeddings(\n",
    "    model_name=\"Alibaba-NLP/gte-base-en-v1.5\",\n",
    "    model_kwargs={\"device\": \"cpu\", \"trust_remote_code\": True},\n",
    "    encode_kwargs={\"normalize_embeddings\": True},\n",
    ")"
   ]
  },
  {
   "cell_type": "markdown",
   "metadata": {},
   "source": [
    "**Loading batch of data processed with main.py**   \n",
    "We read the processed data file by dumping it to a .bson file,    \n",
    "since we want to make fewer requests to the database."
   ]
  },
  {
   "cell_type": "code",
   "execution_count": null,
   "metadata": {},
   "outputs": [],
   "source": [
    "import bson\n",
    "\n",
    "with open(\"embedded.bson\", \"rb\") as f:\n",
    "    data = bson.decode_all(f.read())\n",
    "\n",
    "print(len(data))"
   ]
  },
  {
   "cell_type": "markdown",
   "metadata": {},
   "source": [
    "For the CNN model we will calculate the parameters to standardize them later at runtime."
   ]
  },
  {
   "cell_type": "code",
   "execution_count": null,
   "metadata": {},
   "outputs": [],
   "source": [
    "import numpy as np\n",
    "expYears = []\n",
    "expYearsManagement = []\n",
    "avgTimeInJob = []\n",
    "for i in range(len(data)):\n",
    "    expYears.append(data[i][\"expYears\"])\n",
    "    expYearsManagement.append(data[i][\"expYearsManagement\"])\n",
    "    avgTimeInJob.append(data[i][\"avgTimeInJob\"])\n",
    "expYears = np.array(expYears).reshape(-1, 1)\n",
    "expYearsManagement = np.array(expYearsManagement).reshape(-1, 1)\n",
    "avgTimeInJob = np.array(avgTimeInJob).reshape(-1, 1)\n",
    "\n",
    "# Compute the minimum and maximum of the data\n",
    "min_val = np.min(expYears)\n",
    "max_val = np.max(expYears)\n",
    "\n",
    "min_val_management = np.min(expYearsManagement)\n",
    "max_val_management = np.max(expYearsManagement)\n",
    "\n",
    "min_val_avgTimeInJob = np.min(avgTimeInJob)\n",
    "max_val_avgTimeInJob = np.max(avgTimeInJob)\n",
    "\n",
    "# Define a function to scale data\n",
    "def min_max_scale(data, min_val, max_val):\n",
    "    return (data - min_val) / (max_val - min_val)\n"
   ]
  },
  {
   "cell_type": "markdown",
   "metadata": {},
   "source": [
    "**Preparar una función para convertir los datos númericos restantes a datos semánticos**     \n",
    "Originalmente recibimos algunos datos que son escalares númericos, como los años de experiencia, estos serán convertidos a datos semánticos. Encontramos que la mejor forma de conservar la numeralidad en la forma de embeddings era primero pasar los años a meses y luego a una cadena de texto.  \n",
    "Esto lo hacemos con una librería de python que dado un entero, lo convierte a su forma de texto en inglés."
   ]
  },
  {
   "cell_type": "markdown",
   "metadata": {},
   "source": [
    "**Creating a function to convert the remaining numerical data to semantic data**.     \n",
    "We originally received some data that is numerically scalar, such as years of experience, and this will be converted to semantic data. We found that the best way to preserve the numericality in the form of embeddings was to first convert the years to months and then to a text string.  \n",
    "We do this with a python library that, given an integer, converts it to its English text form."
   ]
  },
  {
   "cell_type": "code",
   "execution_count": null,
   "metadata": {},
   "outputs": [],
   "source": [
    "from num2words import num2words\n",
    "def monthsofexperience(expYears):\n",
    "    months = int(expYears * 12)\n",
    "    return f\"The candidate has {num2words(months)} months of labor experience\"\n",
    "\n",
    "# monthsofexperience(2) -> 'The candidate has twenty-four months of labor experience'"
   ]
  },
  {
   "cell_type": "markdown",
   "metadata": {},
   "source": [
    "In the previous code block, you can see the first function for converting numerical data to semantic data.   \n",
    "As an example, if we pass as argument 2, the function will return a string with the text *\"The candidate has twenty-four months of labor experience\"*.   \n",
    "We define the rest of the functions that work on the same principle, but for different numeric fields."
   ]
  },
  {
   "cell_type": "code",
   "execution_count": null,
   "metadata": {},
   "outputs": [],
   "source": [
    "def expYearsEmbedding(expYears):\n",
    "    if expYears >= 5:\n",
    "        temp =monthsofexperience(expYears) + \", so he has enough experience to be a manager\"\n",
    "    else:\n",
    "        temp = monthsofexperience(expYears) + \", so he is not qualified to be a manager\"\n",
    "    return np.array(embeddings.embed_documents([temp])[0])\n",
    "    \n",
    "def expYearsEmbedding2(expYearsManagement):\n",
    "    if expYearsManagement >= 5:\n",
    "        temp = monthsofexperience(expYearsManagement) + \", so he has enough experience to have an executive position\"\n",
    "    else:\n",
    "        temp = monthsofexperience(expYearsManagement) + \", so he is not qualified to have an executive position\"\n",
    "    return np.array(embeddings.embed_documents([temp])[0])\n",
    "\n",
    "def avgTimeInJobEmb(avgTimeInJob):\n",
    "    temp = f\"The candidate has an average of {num2words(avgTimeInJob)} months in each job\"\n",
    "    return np.array(embeddings.embed_documents([temp])[0])\n",
    "\n",
    "def management_position(management_position):\n",
    "    if management_position:\n",
    "        temp = \"One of the recent jobs of the candidate was in a management position\"\n",
    "    elif management_position == False:\n",
    "        temp = \"One of the recent jobs of the candidate did not involve management activities\"\n",
    "    else:\n",
    "        temp = \"The candidate didn't provide information about his recent jobs\"\n",
    "        \n",
    "    return np.array(embeddings.embed_documents([temp])[0])\n",
    "\n",
    "def education_level(education_level):\n",
    "    if education_level < 0:\n",
    "        temp = \"The candidate didn't provide information about his education level\"\n",
    "    elif education_level == 0:\n",
    "        temp = \"The candidate has a high school education level\"\n",
    "    elif education_level == 1:\n",
    "        temp = \"The candidate has a college education level\"\n",
    "    elif education_level == 2:\n",
    "        temp = \"The candidate has a postgraduate education level\"\n",
    "    else:\n",
    "        temp = \"The candidate has a doctorate education level\"\n",
    "    return np.array(embeddings.embed_documents([temp])[0])"
   ]
  },
  {
   "cell_type": "markdown",
   "metadata": {},
   "source": [
    "**Constant definitions for missing data**.    \n",
    "We have decided to always use the last 3 jobs of a candidate, however, if a candidate has less than 3 jobs, we will complete with the ones defined below.    \n",
    "The same will apply to the candidate's education, we will always try to obtain information about their university degree, and about their highest education above university degree. If no information is available, we will also complete with those defined below.\n"
   ]
  },
  {
   "cell_type": "code",
   "execution_count": null,
   "metadata": {},
   "outputs": [],
   "source": [
    "NA_JOB_CONST = np.array(embeddings.embed_documents([\"No more jobs where found for this candidare\"])[0])\n",
    "NA_CONST = np.array(embeddings.embed_documents([\"Not available information\"])[0])"
   ]
  },
  {
   "cell_type": "markdown",
   "metadata": {},
   "source": [
    "**Using the folder information to assign a label for supervised learning**.    \n",
    "When processing the CVs, the path of the folder where the CV was stored was saved, this information will be used for labelling the data."
   ]
  },
  {
   "cell_type": "code",
   "execution_count": null,
   "metadata": {},
   "outputs": [],
   "source": [
    "def labeler(label):\n",
    "    if \"Especialista\" in label:\n",
    "        return 0\n",
    "    elif \"Gerente\" in label:\n",
    "        return 1\n",
    "    elif \"Director\" in label:\n",
    "        return 2"
   ]
  },
  {
   "cell_type": "markdown",
   "metadata": {},
   "source": [
    "**Create a function to obtain the matrices that feed the models**.    \n",
    "With the previously defined functions, we can obtain the data matrices that will feed the models.    \n",
    "We have defined 15 features to be used for candidates that we consider relevant for their classification in one of the 3 categories. These features have been carefully selected to avoid having biases in the model. They will always be in neutral language and deliberately omit personal information, as they have been rewritten in such a way as to omit particular details.    \n",
    "The selected features are:\n",
    "1. Years of work experience\n",
    "2. Years in leadership positions\n",
    "3. Average time in each job\n",
    "4. Information indicating highest level of education (High School, College, Postgraduate, NA)\n",
    "5. Highest educational qualification (Above college degree, not including name of college or university)\n",
    "6. Undergraduate degree (Not including the name of the college or university)\n",
    "7. Last job title (The name of the company is deliberately not included)\n",
    "8. Summary of responsibilities of last job\n",
    "9. Categorisation of whether the last job involved leadership\n",
    "10. Title of penultimate job (Company name is deliberately not included).\n",
    "11. Summary of responsibilities for the penultimate job\n",
    "12. Categorisation as to whether the penultimate job involves leadership\n",
    "13. Title of the penultimate job (Company name deliberately not included)\n",
    "14. Summary of responsibilities of second to last job\n",
    "15. Categorisation of whether the antepenultimate job involves leadership\n"
   ]
  },
  {
   "cell_type": "code",
   "execution_count": null,
   "metadata": {},
   "outputs": [],
   "source": [
    "def to_matrix(bson):\n",
    "    totalWorks = len(bson[\"work\"])\n",
    "    work_title = []\n",
    "    work_brief = []\n",
    "    work_management = []\n",
    "    for i in range(1,4):\n",
    "        if totalWorks-i < 0:\n",
    "            work_title.append(NA_JOB_CONST)\n",
    "            work_brief.append(NA_JOB_CONST)\n",
    "            work_management.append(NA_JOB_CONST)\n",
    "        else:\n",
    "            work_title.append(bson[\"work\"][totalWorks-i][\"title\"])\n",
    "            work_brief.append(bson[\"work\"][totalWorks-i][\"brief\"])\n",
    "            if bson[\"work\"][totalWorks-i][\"management\"] == 0:\n",
    "                work_management.append(management_position(False))\n",
    "            else:\n",
    "                work_management.append(management_position(True))\n",
    "    if bson[\"bachelor\"] != None:\n",
    "        bachelor_title = bson[\"bachelor\"][\"title\"]\n",
    "    else:\n",
    "        bachelor_title = NA_CONST\n",
    "\n",
    "    if bson[\"maxEducation\"] != None:\n",
    "        maxEducation_title = bson[\"maxEducation\"][\"title\"]\n",
    "    else:\n",
    "        maxEducation_title = NA_CONST\n",
    "        \n",
    "    expYears = expYearsEmbedding(bson[\"expYears\"])\n",
    "    #expYearsNumeric = np.ones(expYears.shape) * min_max_scale(bson[\"expYears\"], min_val, max_val)\n",
    "    expYearsManagement = expYearsEmbedding2(bson[\"expYearsManagement\"])\n",
    "    #expYearsManagementNumeric = np.ones(expYearsManagement.shape) * min_max_scale(bson[\"expYearsManagement\"], min_val_management, max_val_management)\n",
    "    avgTimeInJob = avgTimeInJobEmb(bson[\"avgTimeInJob\"])\n",
    "    #avgTimeInJobNumeric = np.ones(avgTimeInJob.shape) * min_max_scale(bson[\"avgTimeInJob\"], min_val_avgTimeInJob, max_val_avgTimeInJob)\n",
    "    highestEducation = education_level(bson[\"highestEducation\"])\n",
    "\n",
    "    # Put all the data together into a giant np.array where each variable is a column\n",
    "    data = np.vstack([expYears,\n",
    "                      #expYearsNumeric, \n",
    "                    expYearsManagement, \n",
    "                    #expYearsManagementNumeric,\n",
    "                    avgTimeInJob, \n",
    "                    #avgTimeInJobNumeric,\n",
    "                    highestEducation,\n",
    "                    bachelor_title, \n",
    "                    maxEducation_title, \n",
    "                    work_title[0], \n",
    "                    work_brief[0],\n",
    "                    work_management[0], \n",
    "                    work_title[1],\n",
    "                    work_brief[1],\n",
    "                    work_management[1], \n",
    "                    work_title[2], \n",
    "                    work_brief[2],\n",
    "                    work_management[2]])\n",
    "    return (data, labeler(bson[\"label\"]), bson[\"file\"])"
   ]
  },
  {
   "cell_type": "markdown",
   "metadata": {},
   "source": [
    "Last thing to do is to run the function inside a loop that loops through all the processed data and save it in an .npy file with the following dimensions:    \n",
    "(Number of data, 15, 768)"
   ]
  },
  {
   "cell_type": "code",
   "execution_count": null,
   "metadata": {},
   "outputs": [],
   "source": [
    "from random import randint\n",
    "# Añadimos un randint para evitar colisiones en los nombres de los archivos\n",
    "# En este caso guardamos los archivos en la carpeta Data_matrix por si se necesitan tener por separado\n",
    "def flujo(bson):\n",
    "    try:\n",
    "        a = to_matrix(bson)\n",
    "        filename = a[2].split(\"/\")[0]\n",
    "        with open(f\"Data_matrix/{a[1]}/{filename}{randint(1,100)}.csv\", \"wb\") as f:\n",
    "            np.savetxt(f, a[0], delimiter=\",\")\n",
    "    except:\n",
    "        print(\"Error with \", bson[\"file\"])"
   ]
  },
  {
   "cell_type": "code",
   "execution_count": null,
   "metadata": {},
   "outputs": [],
   "source": [
    "import os\n",
    "from joblib import Parallel, delayed\n",
    "Parallel(n_jobs=-1, prefer=\"threads\")(delayed(flujo)(bson) for bson in data)\n",
    "\n",
    "def load_data():\n",
    "    X = []\n",
    "    y = []\n",
    "    for label in os.listdir(\"Data_matrix\"):\n",
    "        for file in os.listdir(f\"Data_matrix/{label}\"):\n",
    "            data = np.loadtxt(f\"Data_matrix/{label}/{file}\", delimiter=\",\")\n",
    "            X.append(data)\n",
    "            y.append(int(label))\n",
    "    return np.array(X), np.array(y)\n",
    "\n",
    "X, Y = load_data()\n",
    "\n",
    "X = np.load(\"X.npy\")\n",
    "Y = np.load(\"Y.npy\")"
   ]
  }
 ],
 "metadata": {
  "language_info": {
   "name": "python"
  }
 },
 "nbformat": 4,
 "nbformat_minor": 2
}
